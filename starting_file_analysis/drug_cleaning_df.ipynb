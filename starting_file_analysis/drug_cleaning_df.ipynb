{
 "cells": [
  {
   "cell_type": "markdown",
   "metadata": {},
   "source": [
    "#### Importing necessary libraries"
   ]
  },
  {
   "cell_type": "code",
   "execution_count": 3,
   "metadata": {},
   "outputs": [],
   "source": [
    "import polars as pl\n",
    "import os"
   ]
  },
  {
   "cell_type": "markdown",
   "metadata": {},
   "source": [
    "#### Importing data"
   ]
  },
  {
   "cell_type": "code",
   "execution_count": 4,
   "metadata": {},
   "outputs": [],
   "source": [
    "# Specify the relative path to the starting CSV file from the current working directory\n",
    "relative_path = os.path.join('..', 'starting_file', 'drug_starting.csv')\n",
    "\n",
    "# Construct the absolute path\n",
    "absolute_path = os.path.abspath(relative_path)\n",
    "\n",
    "# Read the CSV file into a DataFrame\n",
    "df = pl.read_csv(absolute_path)"
   ]
  },
  {
   "cell_type": "markdown",
   "metadata": {},
   "source": [
    "#### Viewing DataFrame"
   ]
  },
  {
   "cell_type": "code",
   "execution_count": 5,
   "metadata": {},
   "outputs": [
    {
     "data": {
      "text/html": [
       "<div><style>\n",
       ".dataframe > thead > tr,\n",
       ".dataframe > tbody > tr {\n",
       "  text-align: right;\n",
       "  white-space: pre-wrap;\n",
       "}\n",
       "</style>\n",
       "<small>shape: (2_219, 9)</small><table border=\"1\" class=\"dataframe\"><thead><tr><th>Condition</th><th>Drug</th><th>Indication</th><th>Type</th><th>Reviews</th><th>Effective</th><th>EaseOfUse</th><th>Satisfaction</th><th>Information</th></tr><tr><td>str</td><td>str</td><td>str</td><td>str</td><td>str</td><td>f64</td><td>f64</td><td>f64</td><td>str</td></tr></thead><tbody><tr><td>&quot;Acute Bacteria…</td><td>&quot;Levofloxacin&quot;</td><td>&quot;On Label&quot;</td><td>&quot;RX&quot;</td><td>&quot;994 Reviews&quot;</td><td>2.52</td><td>3.01</td><td>1.84</td><td>&quot;\r\n",
       "\t\t\t\t\tLevoflo…</td></tr><tr><td>&quot;Acute Bacteria…</td><td>&quot;Levofloxacin&quot;</td><td>&quot;On Label&quot;</td><td>&quot;RX&quot;</td><td>&quot;994 Reviews&quot;</td><td>2.52</td><td>3.01</td><td>1.84</td><td>&quot;\r\n",
       "\t\t\t\t\tLevoflo…</td></tr><tr><td>&quot;Acute Bacteria…</td><td>&quot;Moxifloxacin&quot;</td><td>&quot;On Label&quot;</td><td>&quot;RX&quot;</td><td>&quot;755 Reviews&quot;</td><td>2.78</td><td>3.0</td><td>2.08</td><td>&quot;\r\n",
       "\t\t\t\t\t This i…</td></tr><tr><td>&quot;Acute Bacteria…</td><td>&quot;Azithromycin&quot;</td><td>&quot;On Label&quot;</td><td>&quot;RX&quot;</td><td>&quot;584 Reviews&quot;</td><td>3.21</td><td>4.01</td><td>2.57</td><td>&quot;\r\n",
       "\t\t\t\t\tAzithro…</td></tr><tr><td>&quot;Acute Bacteria…</td><td>&quot;Azithromycin&quot;</td><td>&quot;On Label&quot;</td><td>&quot;RX&quot;</td><td>&quot;584 Reviews&quot;</td><td>3.21</td><td>4.01</td><td>2.57</td><td>&quot;\r\n",
       "\t\t\t\t\tAzithro…</td></tr><tr><td>&hellip;</td><td>&hellip;</td><td>&hellip;</td><td>&hellip;</td><td>&hellip;</td><td>&hellip;</td><td>&hellip;</td><td>&hellip;</td><td>&hellip;</td></tr><tr><td>&quot;vulvovaginal c…</td><td>&quot;Clotrimazole&quot;</td><td>&quot;On Label&quot;</td><td>&quot;OTC&quot;</td><td>&quot;2 Reviews&quot;</td><td>5.0</td><td>5.0</td><td>5.0</td><td>&quot;\r\n",
       "\t\t\t\t\tClotrim…</td></tr><tr><td>&quot;vulvovaginal c…</td><td>&quot;Butoconazole N…</td><td>&quot;On Label&quot;</td><td>&quot;RX&quot;</td><td>&quot;1 Reviews&quot;</td><td>5.0</td><td>5.0</td><td>5.0</td><td>&quot;\r\n",
       "\t\t\t\t\tThis me…</td></tr><tr><td>&quot;vulvovaginal c…</td><td>&quot;Clotrimazole&quot;</td><td>&quot;On Label&quot;</td><td>&quot;OTC&quot;</td><td>&quot;1 Reviews&quot;</td><td>5.0</td><td>4.0</td><td>5.0</td><td>&quot;\r\n",
       "\t\t\t\t\tClotrim…</td></tr><tr><td>&quot;vulvovaginal c…</td><td>&quot;Butoconazole N…</td><td>&quot;On Label&quot;</td><td>&quot;OTC&quot;</td><td>&quot;1 Reviews&quot;</td><td>5.0</td><td>5.0</td><td>5.0</td><td>&quot;\r\n",
       "\t\t\t\t\tThis me…</td></tr><tr><td>&quot;vulvovaginal c…</td><td>&quot;Miconazole-Ski…</td><td>&quot;On Label&quot;</td><td>&quot;OTC&quot;</td><td>&quot;1 Reviews&quot;</td><td>1.0</td><td>4.0</td><td>1.0</td><td>&quot;\r\n",
       "\t\t\t\t\tThis me…</td></tr></tbody></table></div>"
      ],
      "text/plain": [
       "shape: (2_219, 9)\n",
       "┌────────────┬────────────┬────────────┬──────┬───┬───────────┬───────────┬────────────┬───────────┐\n",
       "│ Condition  ┆ Drug       ┆ Indication ┆ Type ┆ … ┆ Effective ┆ EaseOfUse ┆ Satisfacti ┆ Informati │\n",
       "│ ---        ┆ ---        ┆ ---        ┆ ---  ┆   ┆ ---       ┆ ---       ┆ on         ┆ on        │\n",
       "│ str        ┆ str        ┆ str        ┆ str  ┆   ┆ f64       ┆ f64       ┆ ---        ┆ ---       │\n",
       "│            ┆            ┆            ┆      ┆   ┆           ┆           ┆ f64        ┆ str       │\n",
       "╞════════════╪════════════╪════════════╪══════╪═══╪═══════════╪═══════════╪════════════╪═══════════╡\n",
       "│ Acute      ┆ Levofloxac ┆ On Label   ┆ RX   ┆ … ┆ 2.52      ┆ 3.01      ┆ 1.84       ┆ \n",
       "          │\n",
       "│ Bacterial  ┆ in         ┆            ┆      ┆   ┆           ┆           ┆            ┆ \t\t\t\t\tLevo      │\n",
       "│ Sinusitis  ┆            ┆            ┆      ┆   ┆           ┆           ┆            ┆ floxacin  │\n",
       "│            ┆            ┆            ┆      ┆   ┆           ┆           ┆            ┆ is used   │\n",
       "│            ┆            ┆            ┆      ┆   ┆           ┆           ┆            ┆ to t…     │\n",
       "│ Acute      ┆ Levofloxac ┆ On Label   ┆ RX   ┆ … ┆ 2.52      ┆ 3.01      ┆ 1.84       ┆ \n",
       "          │\n",
       "│ Bacterial  ┆ in         ┆            ┆      ┆   ┆           ┆           ┆            ┆ \t\t\t\t\tLevo      │\n",
       "│ Sinusitis  ┆            ┆            ┆      ┆   ┆           ┆           ┆            ┆ floxacin  │\n",
       "│            ┆            ┆            ┆      ┆   ┆           ┆           ┆            ┆ is used   │\n",
       "│            ┆            ┆            ┆      ┆   ┆           ┆           ┆            ┆ to t…     │\n",
       "│ Acute      ┆ Moxifloxac ┆ On Label   ┆ RX   ┆ … ┆ 2.78      ┆ 3.0       ┆ 2.08       ┆ \n",
       "          │\n",
       "│ Bacterial  ┆ in         ┆            ┆      ┆   ┆           ┆           ┆            ┆ \t\t\t\t\t This is  │\n",
       "│ Sinusitis  ┆            ┆            ┆      ┆   ┆           ┆           ┆            ┆ a generic │\n",
       "│            ┆            ┆            ┆      ┆   ┆           ┆           ┆            ┆ drug. …   │\n",
       "│ Acute      ┆ Azithromyc ┆ On Label   ┆ RX   ┆ … ┆ 3.21      ┆ 4.01      ┆ 2.57       ┆ \n",
       "          │\n",
       "│ Bacterial  ┆ in         ┆            ┆      ┆   ┆           ┆           ┆            ┆ \t\t\t\t\tAzit      │\n",
       "│ Sinusitis  ┆            ┆            ┆      ┆   ┆           ┆           ┆            ┆ hromycin  │\n",
       "│            ┆            ┆            ┆      ┆   ┆           ┆           ┆            ┆ is an     │\n",
       "│            ┆            ┆            ┆      ┆   ┆           ┆           ┆            ┆ antibi…   │\n",
       "│ Acute      ┆ Azithromyc ┆ On Label   ┆ RX   ┆ … ┆ 3.21      ┆ 4.01      ┆ 2.57       ┆ \n",
       "          │\n",
       "│ Bacterial  ┆ in         ┆            ┆      ┆   ┆           ┆           ┆            ┆ \t\t\t\t\tAzit      │\n",
       "│ Sinusitis  ┆            ┆            ┆      ┆   ┆           ┆           ┆            ┆ hromycin  │\n",
       "│            ┆            ┆            ┆      ┆   ┆           ┆           ┆            ┆ is an     │\n",
       "│            ┆            ┆            ┆      ┆   ┆           ┆           ┆            ┆ antibi…   │\n",
       "│ …          ┆ …          ┆ …          ┆ …    ┆ … ┆ …         ┆ …         ┆ …          ┆ …         │\n",
       "│ vulvovagin ┆ Clotrimazo ┆ On Label   ┆ OTC  ┆ … ┆ 5.0       ┆ 5.0       ┆ 5.0        ┆ \n",
       "          │\n",
       "│ al candidi ┆ le         ┆            ┆      ┆   ┆           ┆           ┆            ┆ \t\t\t\t\tClot      │\n",
       "│ asis       ┆            ┆            ┆      ┆   ┆           ┆           ┆            ┆ rimazole  │\n",
       "│            ┆            ┆            ┆      ┆   ┆           ┆           ┆            ┆ is used   │\n",
       "│            ┆            ┆            ┆      ┆   ┆           ┆           ┆            ┆ to t…     │\n",
       "│ vulvovagin ┆ Butoconazo ┆ On Label   ┆ RX   ┆ … ┆ 5.0       ┆ 5.0       ┆ 5.0        ┆ \n",
       "          │\n",
       "│ al candidi ┆ le Nitrate ┆            ┆      ┆   ┆           ┆           ┆            ┆ \t\t\t\t\tThis medi │\n",
       "│ asis       ┆            ┆            ┆      ┆   ┆           ┆           ┆            ┆ cation is │\n",
       "│            ┆            ┆            ┆      ┆   ┆           ┆           ┆            ┆ used t…   │\n",
       "│ vulvovagin ┆ Clotrimazo ┆ On Label   ┆ OTC  ┆ … ┆ 5.0       ┆ 4.0       ┆ 5.0        ┆ \n",
       "          │\n",
       "│ al candidi ┆ le         ┆            ┆      ┆   ┆           ┆           ┆            ┆ \t\t\t\t\tClot      │\n",
       "│ asis       ┆            ┆            ┆      ┆   ┆           ┆           ┆            ┆ rimazole  │\n",
       "│            ┆            ┆            ┆      ┆   ┆           ┆           ┆            ┆ is used   │\n",
       "│            ┆            ┆            ┆      ┆   ┆           ┆           ┆            ┆ to t…     │\n",
       "│ vulvovagin ┆ Butoconazo ┆ On Label   ┆ OTC  ┆ … ┆ 5.0       ┆ 5.0       ┆ 5.0        ┆ \n",
       "          │\n",
       "│ al candidi ┆ le Nitrate ┆            ┆      ┆   ┆           ┆           ┆            ┆ \t\t\t\t\tThis medi │\n",
       "│ asis       ┆            ┆            ┆      ┆   ┆           ┆           ┆            ┆ cation is │\n",
       "│            ┆            ┆            ┆      ┆   ┆           ┆           ┆            ┆ used t…   │\n",
       "│ vulvovagin ┆ Miconazole ┆ On Label   ┆ OTC  ┆ … ┆ 1.0       ┆ 4.0       ┆ 1.0        ┆ \n",
       "          │\n",
       "│ al candidi ┆ -Skin      ┆            ┆      ┆   ┆           ┆           ┆            ┆ \t\t\t\t\tThis medi │\n",
       "│ asis       ┆ Clnsr17    ┆            ┆      ┆   ┆           ┆           ┆            ┆ cation is │\n",
       "│            ┆            ┆            ┆      ┆   ┆           ┆           ┆            ┆ used t…   │\n",
       "└────────────┴────────────┴────────────┴──────┴───┴───────────┴───────────┴────────────┴───────────┘"
      ]
     },
     "execution_count": 5,
     "metadata": {},
     "output_type": "execute_result"
    }
   ],
   "source": [
    "df"
   ]
  }
 ],
 "metadata": {
  "kernelspec": {
   "display_name": "base",
   "language": "python",
   "name": "python3"
  },
  "language_info": {
   "codemirror_mode": {
    "name": "ipython",
    "version": 3
   },
   "file_extension": ".py",
   "mimetype": "text/x-python",
   "name": "python",
   "nbconvert_exporter": "python",
   "pygments_lexer": "ipython3",
   "version": "3.11.1"
  }
 },
 "nbformat": 4,
 "nbformat_minor": 2
}
